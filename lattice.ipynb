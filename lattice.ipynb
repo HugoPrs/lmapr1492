{
 "cells": [
  {
   "cell_type": "code",
   "execution_count": 42,
   "metadata": {},
   "outputs": [
    {
     "name": "stdout",
     "output_type": "stream",
     "text": [
      "Lattice type : hexagonal\n",
      "Crystal system : hexagonal\n",
      "Point group : 6/mmm\n",
      "Full Formula (Li3 N1)\n",
      "Reduced Formula: Li3N\n",
      "abc   :   3.650690   3.650690   3.888635\n",
      "angles:  90.000000  90.000000 120.000000\n",
      "Sites (4)\n",
      "  #  SP           a         b    c\n",
      "---  ----  --------  --------  ---\n",
      "  0  Li    0         0         0.5\n",
      "  1  Li    0.333333  0.666667  0\n",
      "  2  Li    0.666667  0.333333  0\n",
      "  3  N     0         0         0\n",
      "[(array([0., 0., 0.]), 1), (array([0.5, 0. , 0. ]), 3), (array([0. , 0. , 0.5]), 1), (array([0.5, 0. , 0.5]), 3)]\n"
     ]
    }
   ],
   "source": [
    "from pymatgen.ext.matproj import MPRester\n",
    "from pymatgen.io.cif import CifWriter\n",
    "from pymatgen.symmetry.analyzer import SpacegroupAnalyzer\n",
    "from pymatgen.symmetry.analyzer import PointGroupAnalyzer\n",
    "from pymatgen.core.lattice import Lattice\n",
    "\n",
    "\n",
    " \n",
    "\n",
    "with MPRester (\"L8GeiTzK0JDCUblX\") as m :\n",
    "    structure = m.get_structure_by_material_id(\"mp-2251\")\n",
    "    w = CifWriter(structure)\n",
    "    w.write_file(\"mp2251.cif\")\n",
    "    sys=SpacegroupAnalyzer(structure).get_crystal_system()\n",
    "    typ=SpacegroupAnalyzer(structure).get_lattice_type()\n",
    "    pointgroup=SpacegroupAnalyzer(structure).get_point_group_symbol()\n",
    "    direct=SpacegroupAnalyzer(structure).get_primitive_standard_structure()\n",
    "    recip=SpacegroupAnalyzer(structure).get_ir_reciprocal_mesh(mesh=(2,2,2),is_shift=(0,0,0))\n",
    "    \n",
    "\n",
    "    \n",
    "    print(\"Lattice type : \" + typ)\n",
    "    print(\"Crystal system : \" +sys)\n",
    "    print(\"Point group : \" +pointgroup)\n",
    "    print(direct)\n",
    "    print(recip)\n",
    "    \n",
    "    \n"
   ]
  },
  {
   "cell_type": "code",
   "execution_count": null,
   "metadata": {},
   "outputs": [],
   "source": []
  },
  {
   "cell_type": "code",
   "execution_count": null,
   "metadata": {},
   "outputs": [],
   "source": []
  },
  {
   "cell_type": "code",
   "execution_count": null,
   "metadata": {},
   "outputs": [],
   "source": []
  }
 ],
 "metadata": {
  "kernelspec": {
   "display_name": "Python 3",
   "language": "python",
   "name": "python3"
  },
  "language_info": {
   "codemirror_mode": {
    "name": "ipython",
    "version": 3
   },
   "file_extension": ".py",
   "mimetype": "text/x-python",
   "name": "python",
   "nbconvert_exporter": "python",
   "pygments_lexer": "ipython3",
   "version": "3.6.8"
  }
 },
 "nbformat": 4,
 "nbformat_minor": 2
}
