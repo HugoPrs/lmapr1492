{
 "cells": [
  {
   "cell_type": "code",
   "execution_count": 51,
   "metadata": {},
   "outputs": [
    {
     "name": "stdout",
     "output_type": "stream",
     "text": [
      "Lattice type : hexagonal\n",
      "Crystal system : hexagonal\n",
      "Point group : 6/mmm\n",
      "3.650690 0.000000 0.000000\n",
      "-1.825345 3.161590 0.000000\n",
      "0.000000 0.000000 3.888635\n"
     ]
    }
   ],
   "source": [
    "from pymatgen.ext.matproj import MPRester\n",
    "from pymatgen.io.cif import CifWriter\n",
    "from pymatgen.symmetry.analyzer import SpacegroupAnalyzer\n",
    "from pymatgen.symmetry.analyzer import PointGroupAnalyzer\n",
    "from pymatgen.core.lattice import Lattice\n",
    "\n",
    "\n",
    " \n",
    "\n",
    "with MPRester (\"L8GeiTzK0JDCUblX\") as m :\n",
    "    structure = m.get_structure_by_material_id(\"mp-2251\")\n",
    "    w = CifWriter(structure)\n",
    "    w.write_file(\"mp2251.cif\")\n",
    "    sys=SpacegroupAnalyzer(structure).get_crystal_system()\n",
    "    typ=SpacegroupAnalyzer(structure).get_lattice_type()\n",
    "    pointgroup=SpacegroupAnalyzer(structure).get_point_group_symbol()\n",
    "    \n",
    "    print(\"Lattice type : \" + typ)\n",
    "    print(\"Crystal system : \" +sys)\n",
    "    print(\"Point group : \" +pointgroup)"
   ]
  },
  {
   "cell_type": "code",
   "execution_count": 53,
   "metadata": {},
   "outputs": [
    {
     "name": "stdout",
     "output_type": "stream",
     "text": [
      "Direct mesh\n"
     ]
    },
    {
     "data": {
      "text/plain": [
       "Lattice\n",
       "    abc : 3.65068987 3.6506898735751623 3.8886347\n",
       " angles : 90.0 90.0 120.00000005821691\n",
       " volume : 44.882564181701426\n",
       "      A : 3.65068987 0.0 0.0\n",
       "      B : -1.82534494 3.16159017 0.0\n",
       "      C : 0.0 0.0 3.8886347"
      ]
     },
     "execution_count": 53,
     "metadata": {},
     "output_type": "execute_result"
    }
   ],
   "source": [
    "print(\"Direct mesh\")\n",
    "structure.lattice"
   ]
  },
  {
   "cell_type": "code",
   "execution_count": 54,
   "metadata": {},
   "outputs": [
    {
     "name": "stdout",
     "output_type": "stream",
     "text": [
      "Reciprocal mesh\n"
     ]
    },
    {
     "data": {
      "text/plain": [
       "Lattice\n",
       "    abc : 1.9873497118485732 1.987349709902339 1.6157818339633667\n",
       " angles : 90.0 90.0 59.99999994178309\n",
       " volume : 5.526649779593662\n",
       "      A : 1.7210953356548984 0.993674857673052 0.0\n",
       "      B : 0.0 1.987349709902339 0.0\n",
       "      C : 0.0 0.0 1.6157818339633667"
      ]
     },
     "execution_count": 54,
     "metadata": {},
     "output_type": "execute_result"
    }
   ],
   "source": [
    "print(\"Reciprocal mesh\")\n",
    "structure.lattice.reciprocal_lattice"
   ]
  },
  {
   "cell_type": "code",
   "execution_count": null,
   "metadata": {},
   "outputs": [],
   "source": []
  }
 ],
 "metadata": {
  "kernelspec": {
   "display_name": "Python 3",
   "language": "python",
   "name": "python3"
  },
  "language_info": {
   "codemirror_mode": {
    "name": "ipython",
    "version": 3
   },
   "file_extension": ".py",
   "mimetype": "text/x-python",
   "name": "python",
   "nbconvert_exporter": "python",
   "pygments_lexer": "ipython3",
   "version": "3.6.8"
  }
 },
 "nbformat": 4,
 "nbformat_minor": 2
}
